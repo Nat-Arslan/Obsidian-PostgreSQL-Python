{
 "cells": [
  {
   "cell_type": "markdown",
   "id": "1f5da8ec",
   "metadata": {
    "toc": true
   },
   "source": [
    "<h1>Table of Contents<span class=\"tocSkip\"></span></h1>\n",
    "<div class=\"toc\"><ul class=\"toc-item\"><li><span><a href=\"#Layout-1\" data-toc-modified-id=\"Layout-1-1\"><span class=\"toc-item-num\">1&nbsp;&nbsp;</span>Layout 1</a></span></li><li><span><a href=\"#Layout-2\" data-toc-modified-id=\"Layout-2-2\"><span class=\"toc-item-num\">2&nbsp;&nbsp;</span>Layout 2</a></span></li><li><span><a href=\"#Layout-2:-Failed\" data-toc-modified-id=\"Layout-2:-Failed-3\"><span class=\"toc-item-num\">3&nbsp;&nbsp;</span>Layout 2: Failed</a></span></li></ul></div>"
   ]
  },
  {
   "cell_type": "code",
   "execution_count": 6,
   "id": "ee030345",
   "metadata": {},
   "outputs": [],
   "source": [
    "import streamlit as st\n",
    "import pandas as pd\n",
    "import pandas.io.sql as sqlio #sql\n",
    "import psycopg2 #sql\n",
    "import folium #map\n",
    "from streamlit_folium import st_folium #map\n",
    "\n",
    "# Use the full page instead of a narrow central column\n",
    "st.set_page_config(layout=\"wide\")\n",
    "\n",
    "# Modules\n",
    "import database\n",
    "import journal_map\n",
    "import week_charts\n",
    "import month_charts"
   ]
  },
  {
   "cell_type": "code",
   "execution_count": 2,
   "id": "ca6ed5fc",
   "metadata": {},
   "outputs": [],
   "source": [
    "# MAP\n",
    "m = journal_map.mymap()\n",
    "folium.LayerControl().add_to(m)"
   ]
  },
  {
   "cell_type": "code",
   "execution_count": 4,
   "id": "84274844",
   "metadata": {},
   "outputs": [],
   "source": [
    "# WEEKLY CHARTS\n",
    "week_figure1 = week_charts.weekly_moodnum()\n",
    "week_figure2 = week_charts.weekly_mooddesc()\n",
    "\n",
    "# MONTHLY CHARTS\n",
    "month_figure1 = month_charts.monthly_moodnum()\n",
    "month_figure2 = month_charts.monthly_mooddesc()\n"
   ]
  },
  {
   "cell_type": "markdown",
   "id": "20e1ae74",
   "metadata": {},
   "source": [
    "## Layout"
   ]
  },
  {
   "cell_type": "code",
   "execution_count": null,
   "id": "f2d06e5e",
   "metadata": {},
   "outputs": [],
   "source": [
    "# Source: https://blog.streamlit.io/introducing-new-layout-options-for-streamlit/\n",
    "\n",
    "st.header(\"Weekly Analysis\")\n",
    "\n",
    "# ADD THE MAP\n",
    "col1 = st.columns(1)\n",
    "st_data = st_folium(m, width=1500, height=250)\n",
    "\n",
    "# ADD THE PLOTS IN COLUMNS\n",
    "col2, col3 = st.columns(2)\n",
    "\n",
    "with col2:\n",
    "    #st.header(\"Weekly\")\n",
    "    st.plotly_chart(week_figure1, use_container_width=True)\n",
    "\n",
    "with col3:\n",
    "    st.plotly_chart(week_figure2, use_container_width=True)\n"
   ]
  }
 ],
 "metadata": {
  "kernelspec": {
   "display_name": "Python 3.9.13 64-bit",
   "language": "python",
   "name": "python3"
  },
  "language_info": {
   "codemirror_mode": {
    "name": "ipython",
    "version": 3
   },
   "file_extension": ".py",
   "mimetype": "text/x-python",
   "name": "python",
   "nbconvert_exporter": "python",
   "pygments_lexer": "ipython3",
   "version": "3.9.13"
  },
  "toc": {
   "base_numbering": 1,
   "nav_menu": {},
   "number_sections": true,
   "sideBar": true,
   "skip_h1_title": true,
   "title_cell": "Table of Contents",
   "title_sidebar": "Contents",
   "toc_cell": true,
   "toc_position": {},
   "toc_section_display": true,
   "toc_window_display": true
  },
  "vscode": {
   "interpreter": {
    "hash": "397704579725e15f5c7cb49fe5f0341eb7531c82d19f2c29d197e8b64ab5776b"
   }
  }
 },
 "nbformat": 4,
 "nbformat_minor": 5
}
