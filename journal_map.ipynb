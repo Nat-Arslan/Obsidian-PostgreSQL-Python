{
 "cells": [
  {
   "cell_type": "markdown",
   "id": "3256ac0d",
   "metadata": {
    "toc": true
   },
   "source": [
    "<h1>Table of Contents<span class=\"tocSkip\"></span></h1>\n",
    "<div class=\"toc\"><ul class=\"toc-item\"></ul></div>"
   ]
  },
  {
   "cell_type": "code",
   "execution_count": 7,
   "id": "e2a2d1e3",
   "metadata": {},
   "outputs": [],
   "source": [
    "from streamlit_folium import st_folium\n",
    "import folium\n",
    "from folium.plugins import MarkerCluster\n",
    "import geopandas"
   ]
  },
  {
   "cell_type": "code",
   "execution_count": 8,
   "id": "432ca8c7",
   "metadata": {},
   "outputs": [],
   "source": [
    "import database\n",
    "\n",
    "# IMPORT dataframe from database.py\n",
    "df = database.data()\n",
    "\n",
    "# CONVERT to geodataframe\n",
    "gdf = geopandas.GeoDataFrame(\n",
    "    df, \n",
    "    geometry=geopandas.points_from_xy(df.lon, df.lat))\n"
   ]
  },
  {
   "cell_type": "code",
   "execution_count": 5,
   "id": "8bdb500d",
   "metadata": {},
   "outputs": [],
   "source": [
    "# MAP\n",
    "\n",
    "def mymap():\n",
    "\n",
    "\n",
    "    center = [59.31373922932743, 18.068295014789005]\n",
    "    zoom = 6\n",
    "\n",
    "    m = folium.Map(location=center, zoom_start=zoom, tiles=\"Stamen Toner\")\n",
    "\n",
    "    marker_cluster = MarkerCluster(\n",
    "        name=\"clustered name\",\n",
    "    ).add_to(m)\n",
    "\n",
    "    for row in gdf.itertuples():\n",
    "        folium.Marker(location=[row.lat,row.lon],popup=row.mooddesc).add_to(marker_cluster)\n",
    "\n",
    "    folium.LayerControl().add_to(m)\n",
    "    \n",
    "    return m\n"
   ]
  }
 ],
 "metadata": {
  "kernelspec": {
   "display_name": "Python 3.9.13 64-bit",
   "language": "python",
   "name": "python3"
  },
  "language_info": {
   "codemirror_mode": {
    "name": "ipython",
    "version": 3
   },
   "file_extension": ".py",
   "mimetype": "text/x-python",
   "name": "python",
   "nbconvert_exporter": "python",
   "pygments_lexer": "ipython3",
   "version": "3.9.13"
  },
  "toc": {
   "base_numbering": 1,
   "nav_menu": {},
   "number_sections": true,
   "sideBar": true,
   "skip_h1_title": true,
   "title_cell": "Table of Contents",
   "title_sidebar": "Contents",
   "toc_cell": true,
   "toc_position": {},
   "toc_section_display": true,
   "toc_window_display": true
  },
  "vscode": {
   "interpreter": {
    "hash": "397704579725e15f5c7cb49fe5f0341eb7531c82d19f2c29d197e8b64ab5776b"
   }
  }
 },
 "nbformat": 4,
 "nbformat_minor": 5
}
