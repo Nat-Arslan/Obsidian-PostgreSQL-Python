{
 "cells": [
  {
   "cell_type": "markdown",
   "id": "ab1bfc8d",
   "metadata": {
    "toc": true
   },
   "source": [
    "<h1>Table of Contents<span class=\"tocSkip\"></span></h1>\n",
    "<div class=\"toc\"><ul class=\"toc-item\"><li><span><a href=\"#Dataframe:-Week-and-Month\" data-toc-modified-id=\"Dataframe:-Week-and-Month-1\"><span class=\"toc-item-num\">1&nbsp;&nbsp;</span>Dataframe: Week and Month</a></span></li></ul></div>"
   ]
  },
  {
   "cell_type": "code",
   "execution_count": null,
   "id": "a599d9e0",
   "metadata": {},
   "outputs": [],
   "source": [
    "import streamlit as st\n",
    "import pandas as pd\n",
    "import pandas.io.sql as sqlio\n",
    "import psycopg2"
   ]
  },
  {
   "cell_type": "code",
   "execution_count": null,
   "id": "9eb2f1a4",
   "metadata": {},
   "outputs": [],
   "source": [
    "# Source: https://www.dataquest.io/blog/tutorial-connect-install-and-query-postgresql-in-python/\n",
    "connection = psycopg2.connect(database=\"MY-DATABASE\",\n",
    "                        host=\"localhost\",\n",
    "                        user=\"MY-USERNAME\",\n",
    "                        password=\"MY-PASSWORD\",\n",
    "                        port=\"MY-PORT-NUMBER\")\n",
    "\n",
    "query = '''\n",
    "SELECT \n",
    "    dataview_data -> 'date' as date,\n",
    "    dataview_data -> 'tags' as tags,\n",
    "    dataview_data -> 'mood-no' as moodnum,\n",
    "    dataview_data -> 'mood-desc' as mooddesc,\n",
    "    dataview_data -> 'social' as social,\n",
    "    dataview_data -> 'walk' as walk,\n",
    "    dataview_data -> 'exercise' as exercise,\n",
    "    dataview_data -> 'physical-no' as physical,\n",
    "    dataview_data -> 'menstrual-cycle' as mens,\n",
    "    dataview_data -> 'geom' as geom,\n",
    "    dataview_data -> 'sun' as sun\n",
    "FROM obsidian.file;\n",
    "'''"
   ]
  },
  {
   "cell_type": "code",
   "execution_count": null,
   "id": "c0886fdd",
   "metadata": {},
   "outputs": [],
   "source": [
    "# From  sql database to pandas dataframe:https://stackoverflow.com/questions/70892143/psycopg2-connection-sql-database-to-pandas-dataframe\n",
    "df = sqlio.read_sql_query(query, connection)\n",
    "\n",
    "# SPLIT: Split the column geom with delimeter\n",
    "df[['lat','lon']] = df['geom'].str.split(',',expand=True)\n",
    "\n",
    "# FLOAT: Convert pandas.core.series to float\n",
    "df['lat'] = df['lat'].astype(float)\n",
    "df['lon'] = df['lon'].astype(float)\n",
    "\n",
    "# NULL: Drop rows where specific column (geom) values are null\n",
    "df = df.dropna(subset=[\"geom\"])\n",
    "\n",
    "# Make the sun/social/walk/exercise values 5 or 0 to match the mood (easier when you plot them together)\n",
    "df['sun'] = df['sun'] * 5\n",
    "df['social'] = df['social'] * 5\n",
    "df['walk'] = df['walk'] * 5\n",
    "df['exercise'] = df['exercise'] * 5\n",
    "\n",
    "# JOURNAL: Keep only the rows that contain a specific string\n",
    "# If this was ==False then it would have dropped all The Rows that Contain a Specific String\n",
    "df = df[df[\"tags\"].str.contains(\"journal\")==True]\n",
    "\n",
    "# SORT by date\n",
    "df = df.sort_values('date')\n",
    "\n",
    "st.header(\"Obsidian Journal to PostgreSQL & Streamlit\")\n",
    "\n"
   ]
  },
  {
   "cell_type": "markdown",
   "id": "79b1794f",
   "metadata": {},
   "source": [
    "## Dataframe: Week and Month"
   ]
  },
  {
   "cell_type": "code",
   "execution_count": null,
   "id": "251d3457",
   "metadata": {},
   "outputs": [],
   "source": [
    "import datetime \n",
    "from datetime import date, timedelta   \n",
    "\n",
    "# Set Index\n",
    "df['date'] = pd.to_datetime(df['date'])\n",
    "df.set_index('date')"
   ]
  },
  {
   "cell_type": "code",
   "execution_count": null,
   "id": "66a079b8",
   "metadata": {},
   "outputs": [],
   "source": [
    "def data():\n",
    "    df_all = df \n",
    "    return df_all "
   ]
  }
 ],
 "metadata": {
  "kernelspec": {
   "display_name": "Python 3.9.13 64-bit",
   "language": "python",
   "name": "python3"
  },
  "language_info": {
   "codemirror_mode": {
    "name": "ipython",
    "version": 3
   },
   "file_extension": ".py",
   "mimetype": "text/x-python",
   "name": "python",
   "nbconvert_exporter": "python",
   "pygments_lexer": "ipython3",
   "version": "3.9.13"
  },
  "toc": {
   "base_numbering": 1,
   "nav_menu": {},
   "number_sections": true,
   "sideBar": true,
   "skip_h1_title": true,
   "title_cell": "Table of Contents",
   "title_sidebar": "Contents",
   "toc_cell": true,
   "toc_position": {},
   "toc_section_display": true,
   "toc_window_display": true
  },
  "vscode": {
   "interpreter": {
    "hash": "397704579725e15f5c7cb49fe5f0341eb7531c82d19f2c29d197e8b64ab5776b"
   }
  }
 },
 "nbformat": 4,
 "nbformat_minor": 5
}
