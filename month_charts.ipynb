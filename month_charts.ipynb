{
 "cells": [
  {
   "cell_type": "markdown",
   "id": "91811b3a",
   "metadata": {
    "toc": true
   },
   "source": [
    "<h1>Table of Contents<span class=\"tocSkip\"></span></h1>\n",
    "<div class=\"toc\"><ul class=\"toc-item\"></ul></div>"
   ]
  },
  {
   "cell_type": "code",
   "execution_count": 6,
   "id": "e5d03efb",
   "metadata": {},
   "outputs": [],
   "source": [
    "import streamlit as st\n",
    "import pandas as pd\n",
    "import pandas.io.sql as sqlio\n",
    "import datetime \n",
    "from datetime import date, timedelta  \n",
    "import plotly.express as px\n",
    "\n",
    "# Module\n",
    "import database"
   ]
  },
  {
   "cell_type": "code",
   "execution_count": 7,
   "id": "d52025e5",
   "metadata": {},
   "outputs": [],
   "source": [
    "# IMPORT dataframe from database.py\n",
    "df = database.data()\n",
    "\n",
    "# today, week, month\n",
    "today = date.today()\n",
    "month_prior =  today - timedelta(weeks=4)\n",
    "\n",
    "# Filter by date\n",
    "df_month = df[(df['date'].dt.date > month_prior)]  "
   ]
  },
  {
   "cell_type": "code",
   "execution_count": 8,
   "id": "0682bd25",
   "metadata": {},
   "outputs": [],
   "source": [
    "def monthly_moodnum():\n",
    "    theme1 = 'plotly_white'\n",
    "    theme2 = 'plotly_dark'\n",
    "\n",
    "    fig3 = px.line(df_month, \n",
    "                  x=df_month['date'], \n",
    "                  y=df_month['moodnum'], \n",
    "                  text=\"mooddesc\", \n",
    "                  #title = \"Mood\",\n",
    "                  template=theme1) #color=\"moodnum\",\n",
    "\n",
    "    fig3.update_traces(line_color = \"black\")\n",
    "\n",
    "    fig3.add_bar(\n",
    "        x=df_month['date'], \n",
    "        y=df_month['sun'],\n",
    "        name='Sun',\n",
    "        opacity=0.5)\n",
    "\n",
    "    fig3.add_bar(\n",
    "        x=df_month['date'], \n",
    "        y=df_month['social'],\n",
    "        name='Social',\n",
    "        opacity=0.5)\n",
    "\n",
    "    fig3.add_bar(\n",
    "        x=df_month['date'], \n",
    "        y=df_month['walk'],\n",
    "        name='Walk',\n",
    "        opacity=0.5)\n",
    "\n",
    "    fig3.add_bar(\n",
    "        x=df_month['date'], \n",
    "        y=df_month['exercise'],\n",
    "        name='Exercise',\n",
    "        opacity=0.5)\n",
    "\n",
    "    fig3.update_layout(hovermode=\"x\")\n",
    "    return fig3"
   ]
  },
  {
   "cell_type": "code",
   "execution_count": 5,
   "id": "69262c6a",
   "metadata": {},
   "outputs": [],
   "source": [
    "def monthly_mooddesc():\n",
    "    # This creates a new dataframe. Mood descriptions are the index\n",
    "    mood_month = pd.DataFrame(df_month['mooddesc'].value_counts())\n",
    "\n",
    "    # Get the index and use it as a column\n",
    "    mood_month.reset_index(inplace=True)\n",
    "\n",
    "    # rename the column names\n",
    "    mood_month.rename(columns = {'index':'record'}, inplace = True)\n",
    "    mood_month.rename(columns = {'mooddesc':'count'}, inplace = True)\n",
    "\n",
    "    fig4 = px.pie(\n",
    "        mood_month, \n",
    "        values = mood_month['count'], \n",
    "        names = mood_month['record'],\n",
    "        hole = 0.5,)\n",
    "    return fig4"
   ]
  }
 ],
 "metadata": {
  "kernelspec": {
   "display_name": "Python 3.9.13 64-bit",
   "language": "python",
   "name": "python3"
  },
  "language_info": {
   "codemirror_mode": {
    "name": "ipython",
    "version": 3
   },
   "file_extension": ".py",
   "mimetype": "text/x-python",
   "name": "python",
   "nbconvert_exporter": "python",
   "pygments_lexer": "ipython3",
   "version": "3.9.13"
  },
  "toc": {
   "base_numbering": 1,
   "nav_menu": {},
   "number_sections": true,
   "sideBar": true,
   "skip_h1_title": true,
   "title_cell": "Table of Contents",
   "title_sidebar": "Contents",
   "toc_cell": true,
   "toc_position": {},
   "toc_section_display": true,
   "toc_window_display": true
  },
  "vscode": {
   "interpreter": {
    "hash": "397704579725e15f5c7cb49fe5f0341eb7531c82d19f2c29d197e8b64ab5776b"
   }
  }
 },
 "nbformat": 4,
 "nbformat_minor": 5
}
