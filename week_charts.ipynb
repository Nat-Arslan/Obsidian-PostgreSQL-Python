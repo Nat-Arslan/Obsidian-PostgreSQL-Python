{
 "cells": [
  {
   "cell_type": "markdown",
   "id": "c21eed8d",
   "metadata": {
    "toc": true
   },
   "source": [
    "<h1>Table of Contents<span class=\"tocSkip\"></span></h1>\n",
    "<div class=\"toc\"><ul class=\"toc-item\"></ul></div>"
   ]
  },
  {
   "cell_type": "code",
   "execution_count": null,
   "id": "e69630cf",
   "metadata": {},
   "outputs": [],
   "source": [
    "import streamlit as st\n",
    "import pandas as pd\n",
    "import pandas.io.sql as sqlio\n",
    "import datetime \n",
    "from datetime import date, timedelta  \n",
    "import plotly.express as px\n",
    "\n",
    "#Modules\n",
    "import database"
   ]
  },
  {
   "cell_type": "code",
   "execution_count": null,
   "id": "ffdcf81a",
   "metadata": {},
   "outputs": [],
   "source": [
    "# IMPORT dataframe from database.py\n",
    "df = database.data()\n",
    "\n",
    "# today, week, month\n",
    "today = date.today()\n",
    "week_prior =  today - timedelta(weeks=1)\n",
    "\n",
    "# Filter by date\n",
    "df_week = df[(df['date'].dt.date > week_prior)]  "
   ]
  },
  {
   "cell_type": "code",
   "execution_count": null,
   "id": "2ac03a8a",
   "metadata": {},
   "outputs": [],
   "source": [
    "def weekly_moodnum():\n",
    "    theme1 = 'plotly_white'\n",
    "    theme2 = 'plotly_dark'\n",
    "\n",
    "    fig1 = px.line(df_week, \n",
    "                  x=df_week['date'], \n",
    "                  y=df_week['moodnum'], \n",
    "                  text=\"mooddesc\", \n",
    "                  #title = \"Mood\",\n",
    "                  template=theme1) #color=\"moodnum\",\n",
    "\n",
    "    fig1.update_traces(line_color = \"black\")\n",
    "\n",
    "    fig1.add_bar(\n",
    "        x=df_week['date'], \n",
    "        y=df_week['sun'],\n",
    "        name='Sun',\n",
    "        opacity=0.5)\n",
    "\n",
    "    fig1.add_bar(\n",
    "        x=df_week['date'], \n",
    "        y=df_week['social'],\n",
    "        name='Social',\n",
    "        opacity=0.5)\n",
    "\n",
    "    fig1.add_bar(\n",
    "        x=df_week['date'], \n",
    "        y=df_week['walk'],\n",
    "        name='Walk',\n",
    "        opacity=0.5)\n",
    "\n",
    "    fig1.add_bar(\n",
    "        x=df_week['date'], \n",
    "        y=df_week['exercise'],\n",
    "        name='Exercise',\n",
    "        opacity=0.5)\n",
    "\n",
    "    fig1.update_layout(hovermode=\"x\")\n",
    "    \n",
    "    return fig1"
   ]
  },
  {
   "cell_type": "code",
   "execution_count": null,
   "id": "e8909eb8",
   "metadata": {},
   "outputs": [],
   "source": [
    "def weekly_mooddesc():\n",
    "    # This creates a new dataframe. Mood descriptions are the index\n",
    "    mood = pd.DataFrame(df_week['mooddesc'].value_counts())\n",
    "\n",
    "    # Get the index and use it as a column\n",
    "    mood.reset_index(inplace=True)\n",
    "\n",
    "    # rename the column names\n",
    "    mood.rename(columns = {'index':'record'}, inplace = True)\n",
    "    mood.rename(columns = {'mooddesc':'count'}, inplace = True)\n",
    "\n",
    "    fig2 = px.pie(\n",
    "        mood, \n",
    "        values = mood['count'], \n",
    "        names = mood['record'],\n",
    "        hole = 0.5,)\n",
    "\n",
    "    return fig2"
   ]
  }
 ],
 "metadata": {
  "kernelspec": {
   "display_name": "Python 3.9.13 64-bit",
   "language": "python",
   "name": "python3"
  },
  "language_info": {
   "codemirror_mode": {
    "name": "ipython",
    "version": 3
   },
   "file_extension": ".py",
   "mimetype": "text/x-python",
   "name": "python",
   "nbconvert_exporter": "python",
   "pygments_lexer": "ipython3",
   "version": "3.9.13"
  },
  "toc": {
   "base_numbering": 1,
   "nav_menu": {},
   "number_sections": true,
   "sideBar": true,
   "skip_h1_title": true,
   "title_cell": "Table of Contents",
   "title_sidebar": "Contents",
   "toc_cell": true,
   "toc_position": {},
   "toc_section_display": true,
   "toc_window_display": true
  },
  "vscode": {
   "interpreter": {
    "hash": "397704579725e15f5c7cb49fe5f0341eb7531c82d19f2c29d197e8b64ab5776b"
   }
  }
 },
 "nbformat": 4,
 "nbformat_minor": 5
}
